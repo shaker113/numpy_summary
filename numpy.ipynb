{
 "cells": [
  {
   "attachments": {},
   "cell_type": "markdown",
   "metadata": {},
   "source": [
    "# this file for studying numby"
   ]
  },
  {
   "attachments": {},
   "cell_type": "markdown",
   "metadata": {},
   "source": [
    "## importing the needed libraries for data sceince"
   ]
  },
  {
   "cell_type": "code",
   "execution_count": 2,
   "metadata": {},
   "outputs": [],
   "source": [
    "import numpy as np"
   ]
  },
  {
   "attachments": {},
   "cell_type": "markdown",
   "metadata": {},
   "source": [
    "## numby array"
   ]
  },
  {
   "attachments": {},
   "cell_type": "markdown",
   "metadata": {},
   "source": [
    "### definig an np array"
   ]
  },
  {
   "cell_type": "code",
   "execution_count": 3,
   "metadata": {},
   "outputs": [],
   "source": [
    "list1=[1,2,3]\n",
    "list2=[4,5,6]\n",
    "list3=[7,8,9]\n",
    "arr=np.array((1,2,3,4),dtype=float) # we can specify the data type for the np array\n",
    "arr2=np.array([list1,list2,list3]) \n",
    "arr3=np.ones((2,2)) # to make an nparray of ones with the shape (2,2) ((the shape is required)) \n",
    "arr4=np.zeros((3,2))\n",
    "arr5=np.arange(10,20,2) # to make an np array start with 10 and ends with number less than 20 with steps of 2\n",
    "arr6=np.linspace(0,30,10) # to make an np array consists of 10 numbers (start with 0 and ends with 30)\n",
    "arr7=np.random.rand(2,3) # to make an np array with Random Numbers with the shape of (2,3) ((randint for random int not float))\n",
    "arr8=arr4.reshape(2,3) # to change the shape of an array to new specify shape ((( new shape szie = old shape size )))\n",
    "arr9=np.ones_like(arr8) # to make an np array of ones with (arr8) shape\n",
    "arr10=np.zeros_like(arr9) # to make an np array of zeros with (arr9) shape\n",
    "arr11=np.full(shape=(3,3,5),fill_value=8) # to make an np array with the shape of (3,3,5) and filled with the value 8\n",
    "arr12=np.eye(5) # to make an array with the shape of (5,5) conssest of diagonal ones and filled with zeros ((diagonal matrix))\n",
    "\n",
    "a=np.array([1,2,3,4,5])\n",
    "b=np.array([6,7,8,9,10])\n",
    "c=np.array([[1],[2],[3],[4],[5]])\n",
    "d=np.array([[10,20],[30,40],[50,60],[70,80]])\n",
    "e=np.array([[3,1],[1,3]])\n",
    "f=np.array([[3,5],[4,2]])"
   ]
  },
  {
   "attachments": {},
   "cell_type": "markdown",
   "metadata": {},
   "source": [
    "### array methodes"
   ]
  },
  {
   "cell_type": "code",
   "execution_count": 4,
   "metadata": {},
   "outputs": [],
   "source": [
    "def describe(array):\n",
    "    \"\"\" print a summary of an array \"\"\"\n",
    "    print(f\"the array : {array}\") \n",
    "    print(f\"dimentions : {array.ndim}\")      # the number for dimentions\n",
    "    print(f\"size : {array.size}\")      # the size of the array\n",
    "    print(f\"shape : {array.shape}\")     # the shape of the array (number of rows , number of colums)\n",
    "    print(f\"data type: {array.dtype}\")     # the data type of the array\n",
    "    print(f\"data type name: {array.dtype.name}\")     # the name of data type of the array\n",
    "    print(f\"data type: {array.astype(int)}\")     # Convert an array to a different typ"
   ]
  },
  {
   "attachments": {},
   "cell_type": "markdown",
   "metadata": {},
   "source": [
    "#### examples"
   ]
  },
  {
   "cell_type": "code",
   "execution_count": 5,
   "metadata": {},
   "outputs": [
    {
     "name": "stdout",
     "output_type": "stream",
     "text": [
      "the array : [1. 2. 3. 4.]\n",
      "dimentions : 1\n",
      "size : 4\n",
      "shape : (4,)\n",
      "data type: float64\n",
      "data type name: float64\n",
      "data type: [1 2 3 4]\n"
     ]
    }
   ],
   "source": [
    "describe(arr)"
   ]
  },
  {
   "cell_type": "code",
   "execution_count": 6,
   "metadata": {},
   "outputs": [
    {
     "name": "stdout",
     "output_type": "stream",
     "text": [
      "the array : [[1 2 3]\n",
      " [4 5 6]\n",
      " [7 8 9]]\n",
      "dimentions : 2\n",
      "size : 9\n",
      "shape : (3, 3)\n",
      "data type: int32\n",
      "data type name: int32\n",
      "data type: [[1 2 3]\n",
      " [4 5 6]\n",
      " [7 8 9]]\n"
     ]
    }
   ],
   "source": [
    "describe(arr2)"
   ]
  },
  {
   "cell_type": "code",
   "execution_count": 7,
   "metadata": {},
   "outputs": [
    {
     "name": "stdout",
     "output_type": "stream",
     "text": [
      "the array : [[1. 1.]\n",
      " [1. 1.]]\n",
      "dimentions : 2\n",
      "size : 4\n",
      "shape : (2, 2)\n",
      "data type: float64\n",
      "data type name: float64\n",
      "data type: [[1 1]\n",
      " [1 1]]\n"
     ]
    }
   ],
   "source": [
    "describe(arr3)"
   ]
  },
  {
   "cell_type": "code",
   "execution_count": 8,
   "metadata": {},
   "outputs": [
    {
     "name": "stdout",
     "output_type": "stream",
     "text": [
      "the array : [[0. 0.]\n",
      " [0. 0.]\n",
      " [0. 0.]]\n",
      "dimentions : 2\n",
      "size : 6\n",
      "shape : (3, 2)\n",
      "data type: float64\n",
      "data type name: float64\n",
      "data type: [[0 0]\n",
      " [0 0]\n",
      " [0 0]]\n"
     ]
    }
   ],
   "source": [
    "describe(arr4)"
   ]
  },
  {
   "cell_type": "code",
   "execution_count": 9,
   "metadata": {},
   "outputs": [
    {
     "name": "stdout",
     "output_type": "stream",
     "text": [
      "the array : [10 12 14 16 18]\n",
      "dimentions : 1\n",
      "size : 5\n",
      "shape : (5,)\n",
      "data type: int32\n",
      "data type name: int32\n",
      "data type: [10 12 14 16 18]\n"
     ]
    }
   ],
   "source": [
    "describe(arr5)"
   ]
  },
  {
   "cell_type": "code",
   "execution_count": 10,
   "metadata": {},
   "outputs": [
    {
     "name": "stdout",
     "output_type": "stream",
     "text": [
      "the array : [ 0.          3.33333333  6.66666667 10.         13.33333333 16.66666667\n",
      " 20.         23.33333333 26.66666667 30.        ]\n",
      "dimentions : 1\n",
      "size : 10\n",
      "shape : (10,)\n",
      "data type: float64\n",
      "data type name: float64\n",
      "data type: [ 0  3  6 10 13 16 20 23 26 30]\n"
     ]
    }
   ],
   "source": [
    "describe(arr6)"
   ]
  },
  {
   "cell_type": "code",
   "execution_count": 186,
   "metadata": {},
   "outputs": [
    {
     "name": "stdout",
     "output_type": "stream",
     "text": [
      "the array : [[0.88980634 0.58741998 0.29023855]\n",
      " [0.54722195 0.69079044 0.34271892]]\n",
      "dimentions : 2\n",
      "size : 6\n",
      "shape : (2, 3)\n",
      "data type: float64\n",
      "data type name: float64\n",
      "data type: [[0 0 0]\n",
      " [0 0 0]]\n"
     ]
    }
   ],
   "source": [
    "describe(arr7)"
   ]
  },
  {
   "cell_type": "code",
   "execution_count": 187,
   "metadata": {},
   "outputs": [
    {
     "name": "stdout",
     "output_type": "stream",
     "text": [
      "the array : [[0. 0. 0.]\n",
      " [0. 0. 0.]]\n",
      "dimentions : 2\n",
      "size : 6\n",
      "shape : (2, 3)\n",
      "data type: float64\n",
      "data type name: float64\n",
      "data type: [[0 0 0]\n",
      " [0 0 0]]\n"
     ]
    }
   ],
   "source": [
    "describe(arr8)"
   ]
  },
  {
   "cell_type": "code",
   "execution_count": 188,
   "metadata": {},
   "outputs": [
    {
     "name": "stdout",
     "output_type": "stream",
     "text": [
      "the array : [[1. 1. 1.]\n",
      " [1. 1. 1.]]\n",
      "dimentions : 2\n",
      "size : 6\n",
      "shape : (2, 3)\n",
      "data type: float64\n",
      "data type name: float64\n",
      "data type: [[1 1 1]\n",
      " [1 1 1]]\n"
     ]
    }
   ],
   "source": [
    "describe(arr9)"
   ]
  },
  {
   "cell_type": "code",
   "execution_count": 189,
   "metadata": {},
   "outputs": [
    {
     "name": "stdout",
     "output_type": "stream",
     "text": [
      "the array : [[0. 0. 0.]\n",
      " [0. 0. 0.]]\n",
      "dimentions : 2\n",
      "size : 6\n",
      "shape : (2, 3)\n",
      "data type: float64\n",
      "data type name: float64\n",
      "data type: [[0 0 0]\n",
      " [0 0 0]]\n"
     ]
    }
   ],
   "source": [
    "describe(arr10)"
   ]
  },
  {
   "cell_type": "code",
   "execution_count": 190,
   "metadata": {},
   "outputs": [
    {
     "name": "stdout",
     "output_type": "stream",
     "text": [
      "the array : [[[8 8 8 8 8]\n",
      "  [8 8 8 8 8]\n",
      "  [8 8 8 8 8]]\n",
      "\n",
      " [[8 8 8 8 8]\n",
      "  [8 8 8 8 8]\n",
      "  [8 8 8 8 8]]\n",
      "\n",
      " [[8 8 8 8 8]\n",
      "  [8 8 8 8 8]\n",
      "  [8 8 8 8 8]]]\n",
      "dimentions : 3\n",
      "size : 45\n",
      "shape : (3, 3, 5)\n",
      "data type: int32\n",
      "data type name: int32\n",
      "data type: [[[8 8 8 8 8]\n",
      "  [8 8 8 8 8]\n",
      "  [8 8 8 8 8]]\n",
      "\n",
      " [[8 8 8 8 8]\n",
      "  [8 8 8 8 8]\n",
      "  [8 8 8 8 8]]\n",
      "\n",
      " [[8 8 8 8 8]\n",
      "  [8 8 8 8 8]\n",
      "  [8 8 8 8 8]]]\n"
     ]
    }
   ],
   "source": [
    "describe(arr11)"
   ]
  },
  {
   "cell_type": "code",
   "execution_count": 191,
   "metadata": {},
   "outputs": [
    {
     "name": "stdout",
     "output_type": "stream",
     "text": [
      "the array : [[1. 0. 0. 0. 0.]\n",
      " [0. 1. 0. 0. 0.]\n",
      " [0. 0. 1. 0. 0.]\n",
      " [0. 0. 0. 1. 0.]\n",
      " [0. 0. 0. 0. 1.]]\n",
      "dimentions : 2\n",
      "size : 25\n",
      "shape : (5, 5)\n",
      "data type: float64\n",
      "data type name: float64\n",
      "data type: [[1 0 0 0 0]\n",
      " [0 1 0 0 0]\n",
      " [0 0 1 0 0]\n",
      " [0 0 0 1 0]\n",
      " [0 0 0 0 1]]\n"
     ]
    }
   ],
   "source": [
    "describe(arr12)"
   ]
  },
  {
   "attachments": {},
   "cell_type": "markdown",
   "metadata": {},
   "source": [
    "### np array operation\n",
    "the arays should have the same shape"
   ]
  },
  {
   "attachments": {},
   "cell_type": "markdown",
   "metadata": {},
   "source": [
    "#### element-wise operation"
   ]
  },
  {
   "cell_type": "code",
   "execution_count": 192,
   "metadata": {},
   "outputs": [
    {
     "name": "stdout",
     "output_type": "stream",
     "text": [
      "a = [1 2 3 4 5]\n",
      "b = [ 6  7  8  9 10]\n",
      "a+b = [ 7  9 11 13 15]\n",
      "a-b = [-5 -5 -5 -5 -5]\n",
      "a*b = [ 6 14 24 36 50]\n",
      "a/b = [0.16666667 0.28571429 0.375      0.44444444 0.5       ]\n",
      "a**b = [      1     128    6561  262144 9765625]\n"
     ]
    }
   ],
   "source": [
    "print(f\"a = {a}\")\n",
    "print(f\"b = {b}\")\n",
    "print(f'a+b = {a+b}') \n",
    "print(f'a-b = {a-b}')\n",
    "print(f'a*b = {a*b}')\n",
    "print(f'a/b = {a/b}')\n",
    "print(f'a**b = {a**b}')\n"
   ]
  },
  {
   "attachments": {},
   "cell_type": "markdown",
   "metadata": {},
   "source": [
    "#### scalar-wise operation"
   ]
  },
  {
   "cell_type": "code",
   "execution_count": 193,
   "metadata": {},
   "outputs": [
    {
     "name": "stdout",
     "output_type": "stream",
     "text": [
      "a = [1 2 3 4 5]\n",
      "a+10 = [11 12 13 14 15]\n",
      "a-10 = [-9 -8 -7 -6 -5]\n",
      "a*10 = [10 20 30 40 50]\n",
      "a/10 = [0.1 0.2 0.3 0.4 0.5]\n",
      "a**2 = [ 1  4  9 16 25]\n",
      "sqrt(a) = [1.         1.41421356 1.73205081 2.         2.23606798]\n",
      "sin(a) = [ 0.84147098  0.90929743  0.14112001 -0.7568025  -0.95892427]\n",
      "cos(a) = [ 0.54030231 -0.41614684 -0.9899925  -0.65364362  0.28366219]\n",
      "log(a) = [0.         0.69314718 1.09861229 1.38629436 1.60943791]\n"
     ]
    }
   ],
   "source": [
    "print(f\"a = {a}\")\n",
    "print(f'a+10 = {a+10}') \n",
    "print(f'a-10 = {a-10}')\n",
    "print(f'a*10 = {a*10}')\n",
    "print(f'a/10 = {a/10}')\n",
    "print(f'a**2 = {a**2}') # np.exp(a) \n",
    "print(f'sqrt(a) = {np.sqrt(a)}')\n",
    "print(f'sin(a) = {np.sin(a)}')\n",
    "print(f'cos(a) = {np.cos(a)}')\n",
    "print(f'log(a) = {np.log(a)}')\n"
   ]
  },
  {
   "attachments": {},
   "cell_type": "markdown",
   "metadata": {},
   "source": [
    "#### dot product"
   ]
  },
  {
   "cell_type": "code",
   "execution_count": 194,
   "metadata": {},
   "outputs": [
    {
     "name": "stdout",
     "output_type": "stream",
     "text": [
      "e = [[3 1]\n",
      " [1 3]]\n",
      "f = [[3 5]\n",
      " [4 2]]\n",
      "Dot two array :\n",
      "[[13 17]\n",
      " [15 11]]\n",
      "Dot two array :\n",
      "[[13 17]\n",
      " [15 11]]\n",
      "Sum of array f:14\n",
      "Add two array :\n",
      "[[6 6]\n",
      " [5 5]]\n",
      "Mean of array :\n",
      "2.0\n",
      "Matmul two array :\n",
      "[[13 17]\n",
      " [15 11]]\n",
      "Multiply two array : \n",
      " [[9 5]\n",
      " [4 6]]\n"
     ]
    }
   ],
   "source": [
    "print(f\"e = {e}\")\n",
    "print(f\"f = {f}\")\n",
    "print (f'Dot two array :\\n{e.dot(f)}') # dot product of e and f \n",
    "print (f'Dot two array :\\n{np.dot (e,f)}')  # dot product of e and f \n",
    "print (f'Sum of array f:{np.sum (f)}')\n",
    "print (f'Add two array :\\n{np.add(e,f)}')\n",
    "print (f'Mean of array :\\n{np.mean(e)}')\n",
    "print (f'Matmul two array :\\n{np.matmul(e,f)}') # dot product of e and f \n",
    "print (f'Multiply two array : \\n {np.multiply(e,f)}') # multiply product of e and f(cross product)"
   ]
  },
  {
   "attachments": {},
   "cell_type": "markdown",
   "metadata": {},
   "source": [
    "#### statistics over whole array \n",
    "Array-wise Aggregate Functions"
   ]
  },
  {
   "cell_type": "code",
   "execution_count": 195,
   "metadata": {},
   "outputs": [
    {
     "name": "stdout",
     "output_type": "stream",
     "text": [
      "a = [1 2 3 4 5]\n",
      "a max= 5\n",
      "a min= 1\n",
      "a sum= 15\n",
      "a mean= 3.0\n",
      "a median= 3.0\n",
      "a Standard deviation = 1.4142135623730951\n",
      "a Correlation coefficient= 1.0\n"
     ]
    }
   ],
   "source": [
    "print(f\"a = {a}\")\n",
    "print(f\"a max= {np.max(a)}\")\n",
    "print(f\"a min= {np.min(a)}\")\n",
    "print(f\"a sum= {np.sum(a)}\")\n",
    "print(f\"a mean= {np.mean(a)}\")\n",
    "print(f\"a median= {np.median(a)}\")\n",
    "print(f\"a Standard deviation = {np.std(a)}\")\n",
    "print(f\"a Correlation coefficient= {np.corrcoef(a)}\")"
   ]
  },
  {
   "attachments": {},
   "cell_type": "markdown",
   "metadata": {},
   "source": [
    "#### statistics by axis\n",
    "axis =0 means columns\n",
    "axis =1 means rows"
   ]
  },
  {
   "cell_type": "code",
   "execution_count": 196,
   "metadata": {},
   "outputs": [
    {
     "name": "stdout",
     "output_type": "stream",
     "text": [
      "[[10 20]\n",
      " [30 40]\n",
      " [50 60]\n",
      " [70 80]]\n",
      "d min (columns) [10 20]\n",
      "d min (rows) [10 30 50 70]\n",
      "d max (columns) [70 80]\n",
      "d max (rows) [20 40 60 80]\n",
      "d sum (columns) [160 200]\n",
      "d sum (rows) [ 30  70 110 150]\n",
      "d mean (columns) [40. 50.]\n",
      "d mean (rows) [15. 35. 55. 75.]\n"
     ]
    }
   ],
   "source": [
    "print(d) \n",
    "print('d min (columns)', d.min(axis =0))\n",
    "print('d min (rows)', d.min(axis = 1))\n",
    "print('d max (columns)', d.max(axis =0))\n",
    "print('d max (rows)', d.max(axis = 1))\n",
    "print('d sum (columns)', d.sum (axis =0))\n",
    "print('d sum (rows)', d.sum (axis = 1))\n",
    "print('d mean (columns)', d.mean (axis =0))\n",
    "print('d mean (rows)', d. mean (axis =1))"
   ]
  },
  {
   "attachments": {},
   "cell_type": "markdown",
   "metadata": {},
   "source": [
    "### comparsion"
   ]
  },
  {
   "cell_type": "code",
   "execution_count": 197,
   "metadata": {},
   "outputs": [
    {
     "name": "stdout",
     "output_type": "stream",
     "text": [
      "a == b : [False False False False False]\n",
      "a< 2 : [ True  True False False False]\n",
      "np.array_equal(a, b)=False\n"
     ]
    }
   ],
   "source": [
    "print(f\"a == b : {a == b}\") # Element-wise comparison\n",
    "print(f\"a< 2 : {a <= 2}\")    # Element-wise comparison\n",
    "\n",
    "print(f\"np.array_equal(a, b)={np.array_equal(a, b)}\") #Array-wise compariso\n",
    "\n",
    "\n"
   ]
  },
  {
   "attachments": {},
   "cell_type": "markdown",
   "metadata": {},
   "source": [
    "### Copying arrays"
   ]
  },
  {
   "cell_type": "code",
   "execution_count": 198,
   "metadata": {},
   "outputs": [],
   "source": [
    "mycopy = a.view()   # Create a view of the array with the same data\n",
    "np.copy(a)          # Create a copy of the array\n",
    "mycopy = a.copy()   # Create a deep copy of the arra"
   ]
  },
  {
   "attachments": {},
   "cell_type": "markdown",
   "metadata": {},
   "source": [
    "### Sorting Arrays"
   ]
  },
  {
   "cell_type": "code",
   "execution_count": 199,
   "metadata": {},
   "outputs": [],
   "source": [
    "a.sort()        #Sort an array\n",
    "c.sort(axis=0)  #Sort the elements of an array's axis"
   ]
  },
  {
   "attachments": {},
   "cell_type": "markdown",
   "metadata": {},
   "source": [
    "### Subsetting, Slicing, Indexing"
   ]
  },
  {
   "attachments": {},
   "cell_type": "markdown",
   "metadata": {},
   "source": [
    "#### Subsetting"
   ]
  },
  {
   "cell_type": "code",
   "execution_count": 200,
   "metadata": {},
   "outputs": [
    {
     "name": "stdout",
     "output_type": "stream",
     "text": [
      "d =\n",
      "[[10 20]\n",
      " [30 40]\n",
      " [50 60]\n",
      " [70 80]]\n",
      "d[1] = [30 40]\n",
      "d[1,2] = 30\n"
     ]
    }
   ],
   "source": [
    "print(f\"d =\\n{d}\")\n",
    "print(f\"d[1] = {d[1]}\")      # Select the element with index\n",
    "print(f\"d[1,2] = {d[1,0]}\")  # Select the element at row 1 column 0 (equivalent to d[1][0]) "
   ]
  },
  {
   "attachments": {},
   "cell_type": "markdown",
   "metadata": {},
   "source": [
    "#### Sclicing"
   ]
  },
  {
   "cell_type": "code",
   "execution_count": 201,
   "metadata": {},
   "outputs": [
    {
     "name": "stdout",
     "output_type": "stream",
     "text": [
      "d =\n",
      "[[10 20]\n",
      " [30 40]\n",
      " [50 60]\n",
      " [70 80]]\n",
      "d[0:4:2] =\n",
      "[[10 20]\n",
      " [50 60]]\n",
      "d[:4,1] =\n",
      "[20 40 60 80]\n",
      "d[:2] =\n",
      "[[10 20]\n",
      " [30 40]]\n",
      "d[2,...] =\n",
      "[50 60]\n",
      "d[[::-1]] =\n",
      "[[70 80]\n",
      " [50 60]\n",
      " [30 40]\n",
      " [10 20]]\n"
     ]
    }
   ],
   "source": [
    "print(f\"d =\\n{d}\")\n",
    "print(f\"d[0:4:2] =\\n{d[0:4:2]}\")    # Select the elements starting with index 0 ends at index less than 4 with steps of 2[starting index : end index : number of steps]\n",
    "print(f\"d[:4,1] =\\n{d[:4,1]}\")      # Select items at rows 0 to less than 4 in column 1\n",
    "print(f\"d[:2] =\\n{d[:2]}\")          # Select all items at row 2(equivalent to b[0:2, :])\n",
    "print(f\"d[2,...] =\\n{d[2,...]}\")    # Select all items at row 2(equivalent to b[2,:,:])\n",
    "print(f\"d[[::-1]] =\\n{d[::-1]}\")    # reversed array"
   ]
  },
  {
   "attachments": {},
   "cell_type": "markdown",
   "metadata": {},
   "source": [
    "#### Boolean Indexing"
   ]
  },
  {
   "cell_type": "code",
   "execution_count": 202,
   "metadata": {},
   "outputs": [
    {
     "name": "stdout",
     "output_type": "stream",
     "text": [
      "a =\n",
      "[1 2 3 4 5]\n",
      "a[a>2] =\n",
      "[3 4 5]\n"
     ]
    }
   ],
   "source": [
    "print(f\"a =\\n{a}\")\n",
    "print(f\"a[a>2] =\\n{a[a>2]}\")    # Select that meets a certain criteria"
   ]
  },
  {
   "attachments": {},
   "cell_type": "markdown",
   "metadata": {},
   "source": [
    "#### Fancy Indexing"
   ]
  },
  {
   "cell_type": "code",
   "execution_count": 203,
   "metadata": {},
   "outputs": [
    {
     "name": "stdout",
     "output_type": "stream",
     "text": [
      "d =\n",
      "[[10 20]\n",
      " [30 40]\n",
      " [50 60]\n",
      " [70 80]]\n",
      "db[[1, 0, 1, 0],[0, 1, 2, 0]] =\n",
      "[30 20 40 10]\n",
      "d[[1, 0, 1, 0]][:,[0,1,1,0]] =\n",
      "[[30 40 40 30]\n",
      " [10 20 20 10]\n",
      " [70 80 80 70]\n",
      " [50 60 60 50]]\n"
     ]
    }
   ],
   "source": [
    "print(f\"d =\\n{d}\")\n",
    "print(f\"db[[1, 0, 1, 0],[0, 1, 2, 0]] =\\n{d[[1, 0, 1, 0],[0, 1, 1, 0]]}\")    # Select elements (1,0),(0,1),(1,1) and (0,0)\n",
    "print(f\"d[[1, 0, 1, 0]][:,[0,1,1,0]] =\\n{d[[1, 0, 3, 2]][:,[0,1,1,0]]}\")     # Select a subset of the matrix’s rows and columns"
   ]
  },
  {
   "attachments": {},
   "cell_type": "markdown",
   "metadata": {},
   "source": [
    "### Array Manipulation"
   ]
  },
  {
   "attachments": {},
   "cell_type": "markdown",
   "metadata": {},
   "source": [
    "#### Transposing Array\n",
    "making long table into wide table and vice versa"
   ]
  },
  {
   "cell_type": "code",
   "execution_count": 204,
   "metadata": {},
   "outputs": [
    {
     "name": "stdout",
     "output_type": "stream",
     "text": [
      "d =\n",
      "[[10 20]\n",
      " [30 40]\n",
      " [50 60]\n",
      " [70 80]]\n",
      "np.transpose(b) =\n",
      "[[10 30 50 70]\n",
      " [20 40 60 80]]\n",
      "i.T  =\n",
      "[[10 30 50 70]\n",
      " [20 40 60 80]]\n"
     ]
    }
   ],
   "source": [
    "print(f\"d =\\n{d}\")\n",
    "print(f\"np.transpose(b) =\\n{np.transpose(d)}\") # Permute array dimensions\n",
    "print(f\"i.T  =\\n{d.T}\")            \n"
   ]
  },
  {
   "attachments": {},
   "cell_type": "markdown",
   "metadata": {},
   "source": [
    "#### Changing Array Shape"
   ]
  },
  {
   "cell_type": "code",
   "execution_count": 205,
   "metadata": {},
   "outputs": [
    {
     "name": "stdout",
     "output_type": "stream",
     "text": [
      "arr7 =\n",
      "[[0.88980634 0.58741998 0.29023855]\n",
      " [0.54722195 0.69079044 0.34271892]]\n",
      "arr7.ravel() =\n",
      "[0.88980634 0.58741998 0.29023855 0.54722195 0.69079044 0.34271892]\n",
      "arr7.reshape(3, 2) =\n",
      "[[0.88980634 0.58741998]\n",
      " [0.29023855 0.54722195]\n",
      " [0.69079044 0.34271892]]\n",
      "np.resize(3,5)= None\n"
     ]
    }
   ],
   "source": [
    "print(f\"arr7 =\\n{arr7}\")\n",
    "print(f\"arr7.ravel() =\\n{arr7.ravel() }\") #Flatten the array\n",
    "print(f\"arr7.reshape(3, 2) =\\n{arr7.reshape(3, 2)}\") #Reshape, but don’t change data\n",
    "print(f\"np.resize(3,5)= {arr7.resize((6,1))}\") # change the array into a new array with shape (2,2)\n"
   ]
  },
  {
   "attachments": {},
   "cell_type": "markdown",
   "metadata": {},
   "source": [
    "#### adding /Removing Elements"
   ]
  },
  {
   "cell_type": "code",
   "execution_count": 206,
   "metadata": {},
   "outputs": [
    {
     "name": "stdout",
     "output_type": "stream",
     "text": [
      "arr = [1. 2. 3. 4.]\n",
      "np.append(arr,5) = [1. 2. 3. 4. 5.]\n",
      "np.insert(arr, 1, 5)  = [1. 5. 2. 3. 4.]\n",
      "np.delete(arr,[1])= [1. 3. 4.]\n"
     ]
    }
   ],
   "source": [
    "print(f\"arr = {arr}\")\n",
    "print(f\"np.append(arr,5) = {np.append(arr,5)}\") # add an item to array\n",
    "print(f\"np.insert(arr, 1, 5)  = {np.insert(arr, 1, 5) }\") # Insert items into a specific location in an array (the array, the location, the item)\n",
    "print(f\"np.delete(arr,[1])= {np.delete(arr,[1])}\") # delete an item in a specific location\n"
   ]
  },
  {
   "attachments": {},
   "cell_type": "markdown",
   "metadata": {},
   "source": [
    "#### Combining Arrays"
   ]
  },
  {
   "cell_type": "code",
   "execution_count": 207,
   "metadata": {},
   "outputs": [
    {
     "name": "stdout",
     "output_type": "stream",
     "text": [
      "e =\n",
      "[[3 1]\n",
      " [1 3]]\n",
      "f =\n",
      "[[3 5]\n",
      " [4 2]]\n",
      "np.concatenate((e,f),axis=0) =\n",
      "[[3 1]\n",
      " [1 3]\n",
      " [3 5]\n",
      " [4 2]]\n",
      "np.concatenate((e,f),axis=1) =\n",
      "[[3 1 3 5]\n",
      " [1 3 4 2]]\n",
      "np.vstack((e,f)) =\n",
      "[[3 1]\n",
      " [1 3]\n",
      " [3 5]\n",
      " [4 2]]\n",
      "np.r_[e,f] =\n",
      "[[3 1]\n",
      " [1 3]\n",
      " [3 5]\n",
      " [4 2]]\n",
      "np.column_stack((e,f)) =\n",
      "[[3 1 3 5]\n",
      " [1 3 4 2]]\n",
      "np.hstack((e,f)) =\n",
      "[[3 1 3 5]\n",
      " [1 3 4 2]]\n",
      "np.c_[e,f] =\n",
      "[[3 1 3 5]\n",
      " [1 3 4 2]]\n"
     ]
    }
   ],
   "source": [
    "print(f\"e =\\n{e}\")\n",
    "print(f\"f =\\n{f}\")\n",
    "print(f\"np.concatenate((e,f),axis=0) =\\n{np.concatenate((e,f),axis=0) }\") # Concatenate arrays by axis 0 (column-wise)\n",
    "print(f\"np.concatenate((e,f),axis=1) =\\n{np.concatenate((e,f),axis=1) }\") # Concatenate arrays by axis 1 (row-wise)\n",
    "print(f\"np.vstack((e,f)) =\\n{np.vstack((e,f))}\") # Stack arrays vertically (row-wise)\n",
    "print(f\"np.r_[e,f] =\\n{np.r_[e,f]}\")             # Stack arrays vertically (row-wise)\n",
    "print(f\"np.column_stack((e,f)) =\\n{np.column_stack((e,f))}\") # Stack arrays horizontally (column-wise) \n",
    "print(f\"np.hstack((e,f)) =\\n{np.hstack((e,f))}\")             # Stack arrays horizontally (column-wise)\n",
    "print(f\"np.c_[e,f] =\\n{np.c_[e,f]}\")                         # Stack arrays horizontally (column-wise)\n"
   ]
  },
  {
   "attachments": {},
   "cell_type": "markdown",
   "metadata": {},
   "source": [
    "#### Splitting Arrays"
   ]
  },
  {
   "cell_type": "code",
   "execution_count": 127,
   "metadata": {},
   "outputs": [
    {
     "name": "stdout",
     "output_type": "stream",
     "text": [
      "d =\n",
      "[[10 20]\n",
      " [30 40]\n",
      " [50 60]\n",
      " [70 80]]\n",
      "np.hsplit(d,1) =\n",
      "[array([[10],\n",
      "       [30],\n",
      "       [50],\n",
      "       [70]]), array([[20],\n",
      "       [40],\n",
      "       [60],\n",
      "       [80]])]\n",
      "np.hsplit(d,1)[1] =\n",
      "[[10]\n",
      " [30]\n",
      " [50]\n",
      " [70]]\n",
      "np.hsplit(d,1)[2] =\n",
      "[[20]\n",
      " [40]\n",
      " [60]\n",
      " [80]]\n",
      "np.vsplit(d,2) =\n",
      "[array([[10, 20],\n",
      "       [30, 40]]), array([[50, 60],\n",
      "       [70, 80]])]\n",
      "np.vsplit(d,2)[0] =\n",
      "[[10 20]\n",
      " [30 40]]\n",
      "np.vsplit(d,2)[1] =\n",
      "[[50 60]\n",
      " [70 80]]\n"
     ]
    }
   ],
   "source": [
    "print(f\"d =\\n{d}\")\n",
    "print(f\"np.hsplit(d,1) =\\n{np.hsplit(d,2)}\")     # Split the array horizontally at givin index (return array)\n",
    "print(f\"np.hsplit(d,1)[1] =\\n{np.hsplit(d,2)[0]}\") \n",
    "print(f\"np.hsplit(d,1)[2] =\\n{np.hsplit(d,2)[1]}\") \n",
    "print(f\"np.vsplit(d,2) =\\n{np.vsplit(d,2)}\")     # Split the array vertically at the 2rd index\n",
    "print(f\"np.vsplit(d,2)[0] =\\n{np.vsplit(d,2)[0]}\")  \n",
    "print(f\"np.vsplit(d,2)[1] =\\n{np.vsplit(d,2)[1]}\")  "
   ]
  }
 ],
 "metadata": {
  "kernelspec": {
   "display_name": "Python 3",
   "language": "python",
   "name": "python3"
  },
  "language_info": {
   "codemirror_mode": {
    "name": "ipython",
    "version": 3
   },
   "file_extension": ".py",
   "mimetype": "text/x-python",
   "name": "python",
   "nbconvert_exporter": "python",
   "pygments_lexer": "ipython3",
   "version": "3.10.9"
  },
  "orig_nbformat": 4,
  "vscode": {
   "interpreter": {
    "hash": "84fd2673a0f847bf80637898000f9b4175f2ffd476d5f31b41a838c2acdb5b76"
   }
  }
 },
 "nbformat": 4,
 "nbformat_minor": 2
}
